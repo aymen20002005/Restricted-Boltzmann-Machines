{
  "nbformat": 4,
  "nbformat_minor": 0,
  "metadata": {
    "colab": {
      "provenance": [],
      "gpuType": "T4"
    },
    "kernelspec": {
      "name": "python3",
      "display_name": "Python 3"
    },
    "language_info": {
      "name": "python"
    },
    "accelerator": "GPU"
  },
  "cells": [
    {
      "cell_type": "markdown",
      "source": [
        "\n",
        "Auteur:\n",
        "\n",
        "Mohamed Aymen BOUYAHIA\n"
      ],
      "metadata": {
        "id": "YcaN6bPIaxOx"
      }
    },
    {
      "cell_type": "markdown",
      "source": [
        "#RBM"
      ],
      "metadata": {
        "id": "WY-JNp3Ba9rS"
      }
    },
    {
      "cell_type": "code",
      "execution_count": 1,
      "metadata": {
        "id": "jPAzZ546as4-"
      },
      "outputs": [],
      "source": [
        "import numpy as np\n",
        "from scipy.io.matlab import mio\n",
        "import matplotlib.pyplot as plt\n",
        "import random"
      ]
    },
    {
      "cell_type": "code",
      "source": [
        "class RBM():\n",
        "    def __init__(self, input_size, output_size):\n",
        "        self.W = None\n",
        "        self.b = None\n",
        "        self.a = None\n",
        "        self.p = input_size\n",
        "        self.q = output_size\n",
        "\n",
        "    def init_RBM(self):\n",
        "        self.a = np.zeros((1,self.p))\n",
        "        self.b = np.zeros((1,self.q))\n",
        "        self.W = np.sqrt(0.01)*np.random.randn(self.p, self.q)\n",
        "\n",
        "\n",
        "    def entree_sortie_RBM(self,V):\n",
        "        return 1/(1 + np.exp(-(V@self.W + self.b)))\n",
        "\n",
        "    def sortie_entree_RBM(self,H):\n",
        "        return 1/(1 + np.exp(-(H@self.W.T + self.a)))\n",
        "\n",
        "    def train_RBM(self, X, nb_iter=1000, lr=1e-1,  batch_size=10):\n",
        "\n",
        "        for epoch in range(nb_iter):\n",
        "            np.random.shuffle(X)\n",
        "\n",
        "            for batch in range(0, np.size(X,axis=0), batch_size):\n",
        "\n",
        "                X_batch = X[batch : min(batch + batch_size, np.size(X,axis=0)), :]\n",
        "                t_b = np.size(X_batch,axis=0)\n",
        "                v_0 = X_batch\n",
        "                p_h_v_0 = self.entree_sortie_RBM(v_0)\n",
        "                h_0 = (np.random.rand(t_b, self.q) < p_h_v_0) * 1\n",
        "                p_v_h_0 = self.sortie_entree_RBM(h_0)\n",
        "                v_1 = (np.random.rand(t_b,self.p) < p_v_h_0) * 1\n",
        "                p_h_v_1 = self.entree_sortie_RBM(v_1)\n",
        "\n",
        "                L = np.sum(np.power(v_0-v_1,2))/batch_size #Compute the Loss\n",
        "\n",
        "                grad_a = np.sum(v_0-v_1, axis=0)\n",
        "                grad_b = np.sum(p_h_v_0-p_h_v_1, axis=0)\n",
        "                grad_W = v_0.T@p_h_v_0 - v_1.T@p_h_v_1\n",
        "\n",
        "                self.W += (lr/t_b) * grad_W\n",
        "                self.a += (lr/t_b) * grad_a\n",
        "                self.b += (lr/t_b) * grad_b\n",
        "\n",
        "            if epoch%10==0:\n",
        "                print(\"  Loss : %f  |  epoch %d/%d\" %(L, epoch+1,nb_iter))\n",
        "\n",
        "\n",
        "    def generer_image_RBM(rbm, iter_gibbs, nb_img):\n",
        "        d=np.zeros((width,1))\n",
        "        space=np.zeros((width,1))\n",
        "\n",
        "        for i in range(nb_img):\n",
        "            plt.figure()\n",
        "            v = (np.random.rand(rbm.p) < 0.5)*1\n",
        "\n",
        "            for j in range(iter_gibbs):\n",
        "                h = (np.random.rand(rbm.q) < rbm.entree_sortie_RBM(v)) * 1\n",
        "                v = (np.random.rand(rbm.p) < rbm.sortie_entree_RBM(h)) * 1\n",
        "\n",
        "            v=v.reshape(width,height)\n",
        "            d=np.concatenate((d,v),axis=1)\n",
        "            d=np.concatenate((d,space),axis=1)\n",
        "\n",
        "        plt.imshow(d)\n",
        "\n",
        "    def lire_alpha_digits(caracteres):\n",
        "        matrice = []\n",
        "        for caractere in caracteres:\n",
        "            for example in fichier['dat'][caractere]:\n",
        "                matrice.append(example.reshape(width*height))\n",
        "        return np.array(matrice)"
      ],
      "metadata": {
        "id": "XfnlmcFsc1Lq"
      },
      "execution_count": 2,
      "outputs": []
    },
    {
      "cell_type": "code",
      "source": [
        "width, height = 20, 16\n",
        "fichier = mio.loadmat(\"./binaryalphadigs\")\n",
        "data=RBM.lire_alpha_digits([8, 9, 10])\n",
        "\n",
        "\n",
        "model = RBM(320,200) # RBM of size 320 = 20*16\n",
        "model.init_RBM()\n",
        "model.train_RBM(data)\n",
        "\n",
        "RBM.generer_image_RBM(model, 1000, 10)\n"
      ],
      "metadata": {
        "colab": {
          "base_uri": "https://localhost:8080/",
          "height": 1000
        },
        "id": "WhxILRqLe9Ux",
        "outputId": "93a30275-91dd-4c57-e1c6-700f2231d6af"
      },
      "execution_count": 3,
      "outputs": [
        {
          "output_type": "stream",
          "name": "stderr",
          "text": [
            "<ipython-input-3-ab907b23cb6b>:2: DeprecationWarning: Please use `loadmat` from the `scipy.io.matlab` namespace, the `scipy.io.matlab.mio` namespace is deprecated.\n",
            "  fichier = mio.loadmat(\"./binaryalphadigs\")\n"
          ]
        },
        {
          "output_type": "stream",
          "name": "stdout",
          "text": [
            "  Loss : 87.800000  |  epoch 1/1000\n",
            "  Loss : 51.800000  |  epoch 11/1000\n",
            "  Loss : 28.000000  |  epoch 21/1000\n",
            "  Loss : 26.900000  |  epoch 31/1000\n",
            "  Loss : 20.900000  |  epoch 41/1000\n",
            "  Loss : 19.800000  |  epoch 51/1000\n",
            "  Loss : 13.700000  |  epoch 61/1000\n",
            "  Loss : 13.700000  |  epoch 71/1000\n",
            "  Loss : 11.700000  |  epoch 81/1000\n",
            "  Loss : 9.200000  |  epoch 91/1000\n",
            "  Loss : 6.200000  |  epoch 101/1000\n",
            "  Loss : 6.600000  |  epoch 111/1000\n",
            "  Loss : 9.400000  |  epoch 121/1000\n",
            "  Loss : 6.300000  |  epoch 131/1000\n",
            "  Loss : 5.000000  |  epoch 141/1000\n",
            "  Loss : 4.600000  |  epoch 151/1000\n",
            "  Loss : 3.800000  |  epoch 161/1000\n",
            "  Loss : 4.600000  |  epoch 171/1000\n",
            "  Loss : 4.000000  |  epoch 181/1000\n",
            "  Loss : 1.900000  |  epoch 191/1000\n",
            "  Loss : 4.800000  |  epoch 201/1000\n",
            "  Loss : 4.500000  |  epoch 211/1000\n",
            "  Loss : 3.400000  |  epoch 221/1000\n",
            "  Loss : 2.600000  |  epoch 231/1000\n",
            "  Loss : 1.200000  |  epoch 241/1000\n",
            "  Loss : 4.800000  |  epoch 251/1000\n",
            "  Loss : 2.800000  |  epoch 261/1000\n",
            "  Loss : 2.000000  |  epoch 271/1000\n",
            "  Loss : 4.400000  |  epoch 281/1000\n",
            "  Loss : 1.900000  |  epoch 291/1000\n",
            "  Loss : 1.900000  |  epoch 301/1000\n",
            "  Loss : 1.600000  |  epoch 311/1000\n",
            "  Loss : 2.600000  |  epoch 321/1000\n",
            "  Loss : 1.500000  |  epoch 331/1000\n",
            "  Loss : 2.000000  |  epoch 341/1000\n",
            "  Loss : 2.600000  |  epoch 351/1000\n",
            "  Loss : 2.300000  |  epoch 361/1000\n",
            "  Loss : 1.900000  |  epoch 371/1000\n",
            "  Loss : 2.100000  |  epoch 381/1000\n",
            "  Loss : 2.100000  |  epoch 391/1000\n",
            "  Loss : 2.100000  |  epoch 401/1000\n",
            "  Loss : 1.000000  |  epoch 411/1000\n",
            "  Loss : 0.900000  |  epoch 421/1000\n",
            "  Loss : 1.200000  |  epoch 431/1000\n",
            "  Loss : 1.200000  |  epoch 441/1000\n",
            "  Loss : 1.600000  |  epoch 451/1000\n",
            "  Loss : 1.300000  |  epoch 461/1000\n",
            "  Loss : 1.600000  |  epoch 471/1000\n",
            "  Loss : 1.800000  |  epoch 481/1000\n",
            "  Loss : 1.500000  |  epoch 491/1000\n",
            "  Loss : 1.600000  |  epoch 501/1000\n",
            "  Loss : 0.900000  |  epoch 511/1000\n",
            "  Loss : 1.300000  |  epoch 521/1000\n",
            "  Loss : 1.900000  |  epoch 531/1000\n",
            "  Loss : 2.200000  |  epoch 541/1000\n",
            "  Loss : 2.200000  |  epoch 551/1000\n",
            "  Loss : 1.400000  |  epoch 561/1000\n",
            "  Loss : 1.500000  |  epoch 571/1000\n",
            "  Loss : 1.400000  |  epoch 581/1000\n",
            "  Loss : 1.600000  |  epoch 591/1000\n",
            "  Loss : 0.600000  |  epoch 601/1000\n",
            "  Loss : 0.700000  |  epoch 611/1000\n",
            "  Loss : 1.400000  |  epoch 621/1000\n",
            "  Loss : 1.800000  |  epoch 631/1000\n",
            "  Loss : 0.700000  |  epoch 641/1000\n",
            "  Loss : 1.800000  |  epoch 651/1000\n",
            "  Loss : 0.900000  |  epoch 661/1000\n",
            "  Loss : 1.700000  |  epoch 671/1000\n",
            "  Loss : 0.800000  |  epoch 681/1000\n",
            "  Loss : 0.800000  |  epoch 691/1000\n",
            "  Loss : 0.900000  |  epoch 701/1000\n",
            "  Loss : 1.100000  |  epoch 711/1000\n",
            "  Loss : 1.400000  |  epoch 721/1000\n",
            "  Loss : 1.200000  |  epoch 731/1000\n",
            "  Loss : 0.900000  |  epoch 741/1000\n",
            "  Loss : 0.800000  |  epoch 751/1000\n",
            "  Loss : 0.900000  |  epoch 761/1000\n",
            "  Loss : 1.200000  |  epoch 771/1000\n",
            "  Loss : 1.000000  |  epoch 781/1000\n",
            "  Loss : 1.000000  |  epoch 791/1000\n",
            "  Loss : 0.700000  |  epoch 801/1000\n",
            "  Loss : 1.300000  |  epoch 811/1000\n",
            "  Loss : 0.900000  |  epoch 821/1000\n",
            "  Loss : 0.600000  |  epoch 831/1000\n",
            "  Loss : 0.800000  |  epoch 841/1000\n",
            "  Loss : 0.700000  |  epoch 851/1000\n",
            "  Loss : 0.700000  |  epoch 861/1000\n",
            "  Loss : 0.800000  |  epoch 871/1000\n",
            "  Loss : 0.900000  |  epoch 881/1000\n",
            "  Loss : 0.500000  |  epoch 891/1000\n",
            "  Loss : 0.600000  |  epoch 901/1000\n",
            "  Loss : 0.400000  |  epoch 911/1000\n",
            "  Loss : 0.300000  |  epoch 921/1000\n",
            "  Loss : 0.700000  |  epoch 931/1000\n",
            "  Loss : 1.100000  |  epoch 941/1000\n",
            "  Loss : 0.300000  |  epoch 951/1000\n",
            "  Loss : 0.900000  |  epoch 961/1000\n",
            "  Loss : 1.000000  |  epoch 971/1000\n",
            "  Loss : 1.200000  |  epoch 981/1000\n",
            "  Loss : 1.300000  |  epoch 991/1000\n"
          ]
        },
        {
          "output_type": "display_data",
          "data": {
            "text/plain": [
              "<Figure size 640x480 with 0 Axes>"
            ]
          },
          "metadata": {}
        },
        {
          "output_type": "display_data",
          "data": {
            "text/plain": [
              "<Figure size 640x480 with 0 Axes>"
            ]
          },
          "metadata": {}
        },
        {
          "output_type": "display_data",
          "data": {
            "text/plain": [
              "<Figure size 640x480 with 0 Axes>"
            ]
          },
          "metadata": {}
        },
        {
          "output_type": "display_data",
          "data": {
            "text/plain": [
              "<Figure size 640x480 with 0 Axes>"
            ]
          },
          "metadata": {}
        },
        {
          "output_type": "display_data",
          "data": {
            "text/plain": [
              "<Figure size 640x480 with 0 Axes>"
            ]
          },
          "metadata": {}
        },
        {
          "output_type": "display_data",
          "data": {
            "text/plain": [
              "<Figure size 640x480 with 0 Axes>"
            ]
          },
          "metadata": {}
        },
        {
          "output_type": "display_data",
          "data": {
            "text/plain": [
              "<Figure size 640x480 with 0 Axes>"
            ]
          },
          "metadata": {}
        },
        {
          "output_type": "display_data",
          "data": {
            "text/plain": [
              "<Figure size 640x480 with 0 Axes>"
            ]
          },
          "metadata": {}
        },
        {
          "output_type": "display_data",
          "data": {
            "text/plain": [
              "<Figure size 640x480 with 0 Axes>"
            ]
          },
          "metadata": {}
        },
        {
          "output_type": "display_data",
          "data": {
            "text/plain": [
              "<Figure size 640x480 with 1 Axes>"
            ],
            "image/png": "[encoded data removed]"
          },
          "metadata": {}
        }
      ]
    }
  ]
}