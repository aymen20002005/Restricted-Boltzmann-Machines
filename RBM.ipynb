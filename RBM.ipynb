{
  "nbformat": 4,
  "nbformat_minor": 0,
  "metadata": {
    "colab": {
      "provenance": []
    },
    "kernelspec": {
      "name": "python3",
      "display_name": "Python 3"
    },
    "language_info": {
      "name": "python"
    },
    "accelerator": "TPU"
  },
  "cells": [
    {
      "cell_type": "markdown",
      "source": [
        "\n",
        "Auteur:\n",
        "\n",
        "Mohamed Aymen BOUYAHIA\n"
      ],
      "metadata": {
        "id": "YcaN6bPIaxOx"
      }
    },
    {
      "cell_type": "markdown",
      "source": [
        "#RBM avec Binary Alphadigit"
      ],
      "metadata": {
        "id": "WY-JNp3Ba9rS"
      }
    },
    {
      "cell_type": "code",
      "execution_count": 1,
      "metadata": {
        "id": "jPAzZ546as4-"
      },
      "outputs": [],
      "source": [
        "import numpy as np\n",
        "from scipy.io.matlab import mio\n",
        "import matplotlib.pyplot as plt\n",
        "import random"
      ]
    },
    {
      "cell_type": "code",
      "source": [
        "class RBM():\n",
        "    def __init__(self, input_size, output_size):\n",
        "        self.W = None\n",
        "        self.b = None\n",
        "        self.a = None\n",
        "        self.p = input_size\n",
        "        self.q = output_size\n",
        "\n",
        "    def init_RBM(self):\n",
        "        self.a = np.zeros((1,self.p))\n",
        "        self.b = np.zeros((1,self.q))\n",
        "        self.W = np.sqrt(0.01)*np.random.randn(self.p, self.q)\n",
        "\n",
        "\n",
        "    def entree_sortie_RBM(self,V):\n",
        "        return 1/(1 + np.exp(-(V@self.W + self.b)))\n",
        "\n",
        "    def sortie_entree_RBM(self,H):\n",
        "        return 1/(1 + np.exp(-(H@self.W.T + self.a)))\n",
        "\n",
        "    def train_RBM(self, X, nb_iter=1000, lr=1e-1,  batch_size=10):\n",
        "\n",
        "        for epoch in range(nb_iter):\n",
        "            np.random.shuffle(X)\n",
        "\n",
        "            for batch in range(0, np.size(X,axis=0), batch_size):\n",
        "\n",
        "                X_batch = X[batch : min(batch + batch_size, np.size(X,axis=0)), :]\n",
        "                t_b = np.size(X_batch,axis=0)\n",
        "                v_0 = X_batch\n",
        "                p_h_v_0 = self.entree_sortie_RBM(v_0)\n",
        "                h_0 = (np.random.rand(t_b, self.q) < p_h_v_0) * 1\n",
        "                p_v_h_0 = self.sortie_entree_RBM(h_0)\n",
        "                v_1 = (np.random.rand(t_b,self.p) < p_v_h_0) * 1\n",
        "                p_h_v_1 = self.entree_sortie_RBM(v_1)\n",
        "\n",
        "                grad_a = np.sum(v_0-v_1, axis=0)\n",
        "                grad_b = np.sum(p_h_v_0-p_h_v_1, axis=0)\n",
        "                grad_W = v_0.T@p_h_v_0 - v_1.T@p_h_v_1\n",
        "\n",
        "                self.W += (lr/t_b) * grad_W\n",
        "                self.a += (lr/t_b) * grad_a\n",
        "                self.b += (lr/t_b) * grad_b\n",
        "            H = self.entree_sortie_RBM(X)\n",
        "            X_rec = self.sortie_entree_RBM(H)\n",
        "\n",
        "            if epoch%10==0:\n",
        "                error = np.sum(np.square(X-X_rec)) / np.size(X, axis=0)\n",
        "                print(\"  Rec_error : %f  |  epoch %d/%d\" %(error, epoch+1,nb_iter))\n",
        "\n",
        "\n",
        "    def generer_image_RBM(rbm, iter_gibbs, nb_img):\n",
        "        d=np.zeros((width,1))\n",
        "        space=np.zeros((width,1))\n",
        "\n",
        "        for i in range(nb_img):\n",
        "            plt.figure()\n",
        "            v = (np.random.rand(rbm.p) < 0.5)*1\n",
        "\n",
        "            for j in range(iter_gibbs):\n",
        "                h = (np.random.rand(rbm.q) < rbm.entree_sortie_RBM(v)) * 1\n",
        "                v = (np.random.rand(rbm.p) < rbm.sortie_entree_RBM(h)) * 1\n",
        "\n",
        "            v=v.reshape(width,height)\n",
        "            d=np.concatenate((d,v),axis=1)\n",
        "            d=np.concatenate((d,space),axis=1)\n",
        "\n",
        "        plt.imshow(d)\n",
        "\n",
        "    def lire_alpha_digits(caracteres):\n",
        "        matrice = []\n",
        "        for caractere in caracteres:\n",
        "            for example in fichier['dat'][caractere]:\n",
        "                matrice.append(example.reshape(width*height)) #Reshape\n",
        "        return np.array(matrice)"
      ],
      "metadata": {
        "id": "XfnlmcFsc1Lq"
      },
      "execution_count": 2,
      "outputs": []
    },
    {
      "cell_type": "code",
      "source": [
        "width, height = 20, 16\n",
        "fichier = mio.loadmat(\"./binaryalphadigs\")\n",
        "data=RBM.lire_alpha_digits([10, 11, 12])\n",
        "\n",
        "\n",
        "model = RBM(320,200) # RBM of size 320 = 20*16\n",
        "model.init_RBM()\n",
        "model.train_RBM(data)\n",
        "\n",
        "RBM.generer_image_RBM(model, 1000, 10)\n"
      ],
      "metadata": {
        "colab": {
          "base_uri": "https://localhost:8080/",
          "height": 1000
        },
        "id": "WhxILRqLe9Ux",
        "outputId": "430a1f21-eb52-45aa-addb-7bf8ba4eb9e7"
      },
      "execution_count": 15,
      "outputs": [
        {
          "output_type": "stream",
          "name": "stderr",
          "text": [
            "<ipython-input-15-f0af6b738c51>:2: DeprecationWarning: Please use `loadmat` from the `scipy.io.matlab` namespace, the `scipy.io.matlab.mio` namespace is deprecated.\n",
            "  fichier = mio.loadmat(\"./binaryalphadigs\")\n"
          ]
        },
        {
          "output_type": "stream",
          "name": "stdout",
          "text": [
            "  Rec_error : 51.438112  |  epoch 1/1000\n",
            "  Rec_error : 25.164356  |  epoch 11/1000\n",
            "  Rec_error : 15.186201  |  epoch 21/1000\n",
            "  Rec_error : 9.905579  |  epoch 31/1000\n",
            "  Rec_error : 6.848048  |  epoch 41/1000\n",
            "  Rec_error : 4.865778  |  epoch 51/1000\n",
            "  Rec_error : 3.509901  |  epoch 61/1000\n",
            "  Rec_error : 2.682655  |  epoch 71/1000\n",
            "  Rec_error : 2.034502  |  epoch 81/1000\n",
            "  Rec_error : 1.641347  |  epoch 91/1000\n",
            "  Rec_error : 1.259074  |  epoch 101/1000\n",
            "  Rec_error : 1.063099  |  epoch 111/1000\n",
            "  Rec_error : 0.887764  |  epoch 121/1000\n",
            "  Rec_error : 0.738110  |  epoch 131/1000\n",
            "  Rec_error : 0.629940  |  epoch 141/1000\n",
            "  Rec_error : 0.540833  |  epoch 151/1000\n",
            "  Rec_error : 0.477189  |  epoch 161/1000\n",
            "  Rec_error : 0.421260  |  epoch 171/1000\n",
            "  Rec_error : 0.375824  |  epoch 181/1000\n",
            "  Rec_error : 0.342583  |  epoch 191/1000\n",
            "  Rec_error : 0.307754  |  epoch 201/1000\n",
            "  Rec_error : 0.275883  |  epoch 211/1000\n",
            "  Rec_error : 0.255145  |  epoch 221/1000\n",
            "  Rec_error : 0.235866  |  epoch 231/1000\n",
            "  Rec_error : 0.216347  |  epoch 241/1000\n",
            "  Rec_error : 0.194373  |  epoch 251/1000\n",
            "  Rec_error : 0.183541  |  epoch 261/1000\n",
            "  Rec_error : 0.166107  |  epoch 271/1000\n",
            "  Rec_error : 0.155881  |  epoch 281/1000\n",
            "  Rec_error : 0.136948  |  epoch 291/1000\n",
            "  Rec_error : 0.128403  |  epoch 301/1000\n",
            "  Rec_error : 0.125258  |  epoch 311/1000\n",
            "  Rec_error : 0.115137  |  epoch 321/1000\n",
            "  Rec_error : 0.106459  |  epoch 331/1000\n",
            "  Rec_error : 0.105588  |  epoch 341/1000\n",
            "  Rec_error : 0.098215  |  epoch 351/1000\n",
            "  Rec_error : 0.092627  |  epoch 361/1000\n",
            "  Rec_error : 0.086243  |  epoch 371/1000\n",
            "  Rec_error : 0.085035  |  epoch 381/1000\n",
            "  Rec_error : 0.077020  |  epoch 391/1000\n",
            "  Rec_error : 0.074111  |  epoch 401/1000\n",
            "  Rec_error : 0.073683  |  epoch 411/1000\n",
            "  Rec_error : 0.069398  |  epoch 421/1000\n",
            "  Rec_error : 0.064398  |  epoch 431/1000\n",
            "  Rec_error : 0.064353  |  epoch 441/1000\n",
            "  Rec_error : 0.058160  |  epoch 451/1000\n",
            "  Rec_error : 0.056047  |  epoch 461/1000\n",
            "  Rec_error : 0.051976  |  epoch 471/1000\n",
            "  Rec_error : 0.051283  |  epoch 481/1000\n",
            "  Rec_error : 0.050439  |  epoch 491/1000\n",
            "  Rec_error : 0.046777  |  epoch 501/1000\n",
            "  Rec_error : 0.045108  |  epoch 511/1000\n",
            "  Rec_error : 0.045908  |  epoch 521/1000\n",
            "  Rec_error : 0.041697  |  epoch 531/1000\n",
            "  Rec_error : 0.040936  |  epoch 541/1000\n",
            "  Rec_error : 0.040041  |  epoch 551/1000\n",
            "  Rec_error : 0.037230  |  epoch 561/1000\n",
            "  Rec_error : 0.036624  |  epoch 571/1000\n",
            "  Rec_error : 0.035687  |  epoch 581/1000\n",
            "  Rec_error : 0.033233  |  epoch 591/1000\n",
            "  Rec_error : 0.032893  |  epoch 601/1000\n",
            "  Rec_error : 0.032039  |  epoch 611/1000\n",
            "  Rec_error : 0.030942  |  epoch 621/1000\n",
            "  Rec_error : 0.030683  |  epoch 631/1000\n",
            "  Rec_error : 0.028997  |  epoch 641/1000\n",
            "  Rec_error : 0.028273  |  epoch 651/1000\n",
            "  Rec_error : 0.027240  |  epoch 661/1000\n",
            "  Rec_error : 0.026514  |  epoch 671/1000\n",
            "  Rec_error : 0.025687  |  epoch 681/1000\n",
            "  Rec_error : 0.024699  |  epoch 691/1000\n",
            "  Rec_error : 0.023448  |  epoch 701/1000\n",
            "  Rec_error : 0.023705  |  epoch 711/1000\n",
            "  Rec_error : 0.023292  |  epoch 721/1000\n",
            "  Rec_error : 0.022339  |  epoch 731/1000\n",
            "  Rec_error : 0.021185  |  epoch 741/1000\n",
            "  Rec_error : 0.021048  |  epoch 751/1000\n",
            "  Rec_error : 0.020005  |  epoch 761/1000\n",
            "  Rec_error : 0.019663  |  epoch 771/1000\n",
            "  Rec_error : 0.018458  |  epoch 781/1000\n",
            "  Rec_error : 0.018620  |  epoch 791/1000\n",
            "  Rec_error : 0.019085  |  epoch 801/1000\n",
            "  Rec_error : 0.017867  |  epoch 811/1000\n",
            "  Rec_error : 0.017513  |  epoch 821/1000\n",
            "  Rec_error : 0.016402  |  epoch 831/1000\n",
            "  Rec_error : 0.016049  |  epoch 841/1000\n",
            "  Rec_error : 0.016097  |  epoch 851/1000\n",
            "  Rec_error : 0.015544  |  epoch 861/1000\n",
            "  Rec_error : 0.015763  |  epoch 871/1000\n",
            "  Rec_error : 0.015191  |  epoch 881/1000\n",
            "  Rec_error : 0.014538  |  epoch 891/1000\n",
            "  Rec_error : 0.014559  |  epoch 901/1000\n",
            "  Rec_error : 0.014047  |  epoch 911/1000\n",
            "  Rec_error : 0.013512  |  epoch 921/1000\n",
            "  Rec_error : 0.013045  |  epoch 931/1000\n",
            "  Rec_error : 0.012981  |  epoch 941/1000\n",
            "  Rec_error : 0.012972  |  epoch 951/1000\n",
            "  Rec_error : 0.012710  |  epoch 961/1000\n",
            "  Rec_error : 0.012391  |  epoch 971/1000\n",
            "  Rec_error : 0.011717  |  epoch 981/1000\n",
            "  Rec_error : 0.011995  |  epoch 991/1000\n"
          ]
        },
        {
          "output_type": "display_data",
          "data": {
            "text/plain": [
              "<Figure size 640x480 with 0 Axes>"
            ]
          },
          "metadata": {}
        },
        {
          "output_type": "display_data",
          "data": {
            "text/plain": [
              "<Figure size 640x480 with 0 Axes>"
            ]
          },
          "metadata": {}
        },
        {
          "output_type": "display_data",
          "data": {
            "text/plain": [
              "<Figure size 640x480 with 0 Axes>"
            ]
          },
          "metadata": {}
        },
        {
          "output_type": "display_data",
          "data": {
            "text/plain": [
              "<Figure size 640x480 with 0 Axes>"
            ]
          },
          "metadata": {}
        },
        {
          "output_type": "display_data",
          "data": {
            "text/plain": [
              "<Figure size 640x480 with 0 Axes>"
            ]
          },
          "metadata": {}
        },
        {
          "output_type": "display_data",
          "data": {
            "text/plain": [
              "<Figure size 640x480 with 0 Axes>"
            ]
          },
          "metadata": {}
        },
        {
          "output_type": "display_data",
          "data": {
            "text/plain": [
              "<Figure size 640x480 with 0 Axes>"
            ]
          },
          "metadata": {}
        },
        {
          "output_type": "display_data",
          "data": {
            "text/plain": [
              "<Figure size 640x480 with 0 Axes>"
            ]
          },
          "metadata": {}
        },
        {
          "output_type": "display_data",
          "data": {
            "text/plain": [
              "<Figure size 640x480 with 0 Axes>"
            ]
          },
          "metadata": {}
        },
        {
          "output_type": "display_data",
          "data": {
            "text/plain": [
              "<Figure size 640x480 with 1 Axes>"
            ],
            "image/png": "[encoded data removed]"
          },
          "metadata": {}
        }
      ]
    },
    {
      "cell_type": "markdown",
      "source": [
        "#RBM avec MNIST ou USPS"
      ],
      "metadata": {
        "id": "7p_9lgeq3dwT"
      }
    },
    {
      "cell_type": "code",
      "source": [
        "# MNIST\n",
        "\n",
        "def lire_mnist(caracteres):\n",
        "    matrice, samples = [], []\n",
        "    for caractere in caracteres:\n",
        "        for example in fichier['train'+str(caractere)]:\n",
        "            example = (example > 255/2)*1  # Binarization\n",
        "            samples.append(example.reshape(28*28)) # Reshape\n",
        "        samples = random.sample(samples, 250)\n",
        "        matrice += samples\n",
        "    return np.array(matrice)\n",
        "\n",
        "\n",
        "width, height = 28, 28\n",
        "fichier = mio.loadmat(\"./mnist_all\")\n",
        "data = lire_mnist([0,1,2])\n",
        "\n",
        "model = RBM(784,200) # RBM of size 784 = 28*28\n",
        "model.init_RBM()\n",
        "model.train_RBM(data)\n",
        "\n",
        "RBM.generer_image_RBM(model, 1000, 10)"
      ],
      "metadata": {
        "colab": {
          "base_uri": "https://localhost:8080/",
          "height": 1000
        },
        "id": "EwXySsJI33Cc",
        "outputId": "1fd937f3-25d5-439c-e984-cd2dd6ee1ae3"
      },
      "execution_count": null,
      "outputs": [
        {
          "output_type": "stream",
          "name": "stderr",
          "text": [
            "<ipython-input-13-749b1b304422>:15: DeprecationWarning: Please use `loadmat` from the `scipy.io.matlab` namespace, the `scipy.io.matlab.mio` namespace is deprecated.\n",
            "  fichier = mio.loadmat(\"./mnist_all\")\n"
          ]
        },
        {
          "output_type": "stream",
          "name": "stdout",
          "text": [
            "  Rec_error : 37.214156  |  epoch 1/1000\n",
            "  Rec_error : 17.221769  |  epoch 11/1000\n",
            "  Rec_error : 12.129819  |  epoch 21/1000\n",
            "  Rec_error : 9.251156  |  epoch 31/1000\n",
            "  Rec_error : 7.389409  |  epoch 41/1000\n",
            "  Rec_error : 6.092233  |  epoch 51/1000\n",
            "  Rec_error : 5.110784  |  epoch 61/1000\n",
            "  Rec_error : 4.465584  |  epoch 71/1000\n",
            "  Rec_error : 3.908167  |  epoch 81/1000\n",
            "  Rec_error : 3.403724  |  epoch 91/1000\n",
            "  Rec_error : 3.066703  |  epoch 101/1000\n",
            "  Rec_error : 2.702202  |  epoch 111/1000\n",
            "  Rec_error : 2.458935  |  epoch 121/1000\n",
            "  Rec_error : 2.179192  |  epoch 131/1000\n",
            "  Rec_error : 2.006780  |  epoch 141/1000\n",
            "  Rec_error : 1.828953  |  epoch 151/1000\n",
            "  Rec_error : 1.695512  |  epoch 161/1000\n",
            "  Rec_error : 1.562518  |  epoch 171/1000\n",
            "  Rec_error : 1.424095  |  epoch 181/1000\n",
            "  Rec_error : 1.302900  |  epoch 191/1000\n",
            "  Rec_error : 1.218415  |  epoch 201/1000\n",
            "  Rec_error : 1.139215  |  epoch 211/1000\n",
            "  Rec_error : 1.066113  |  epoch 221/1000\n",
            "  Rec_error : 0.981434  |  epoch 231/1000\n",
            "  Rec_error : 0.938196  |  epoch 241/1000\n",
            "  Rec_error : 0.862808  |  epoch 251/1000\n",
            "  Rec_error : 0.838440  |  epoch 261/1000\n",
            "  Rec_error : 0.765449  |  epoch 271/1000\n",
            "  Rec_error : 0.725929  |  epoch 281/1000\n",
            "  Rec_error : 0.687142  |  epoch 291/1000\n",
            "  Rec_error : 0.659238  |  epoch 301/1000\n",
            "  Rec_error : 0.624266  |  epoch 311/1000\n",
            "  Rec_error : 0.582128  |  epoch 321/1000\n",
            "  Rec_error : 0.571642  |  epoch 331/1000\n",
            "  Rec_error : 0.527871  |  epoch 341/1000\n",
            "  Rec_error : 0.507566  |  epoch 351/1000\n",
            "  Rec_error : 0.496482  |  epoch 361/1000\n",
            "  Rec_error : 0.458645  |  epoch 371/1000\n",
            "  Rec_error : 0.447045  |  epoch 381/1000\n",
            "  Rec_error : 0.429651  |  epoch 391/1000\n",
            "  Rec_error : 0.409209  |  epoch 401/1000\n",
            "  Rec_error : 0.390734  |  epoch 411/1000\n",
            "  Rec_error : 0.383807  |  epoch 421/1000\n",
            "  Rec_error : 0.360215  |  epoch 431/1000\n",
            "  Rec_error : 0.348687  |  epoch 441/1000\n",
            "  Rec_error : 0.337853  |  epoch 451/1000\n",
            "  Rec_error : 0.332944  |  epoch 461/1000\n",
            "  Rec_error : 0.317327  |  epoch 471/1000\n",
            "  Rec_error : 0.304886  |  epoch 481/1000\n",
            "  Rec_error : 0.291355  |  epoch 491/1000\n",
            "  Rec_error : 0.282252  |  epoch 501/1000\n",
            "  Rec_error : 0.275480  |  epoch 511/1000\n",
            "  Rec_error : 0.266014  |  epoch 521/1000\n",
            "  Rec_error : 0.259475  |  epoch 531/1000\n",
            "  Rec_error : 0.247389  |  epoch 541/1000\n",
            "  Rec_error : 0.240020  |  epoch 551/1000\n",
            "  Rec_error : 0.230360  |  epoch 561/1000\n",
            "  Rec_error : 0.228518  |  epoch 571/1000\n",
            "  Rec_error : 0.216873  |  epoch 581/1000\n",
            "  Rec_error : 0.216196  |  epoch 591/1000\n",
            "  Rec_error : 0.201244  |  epoch 601/1000\n",
            "  Rec_error : 0.201299  |  epoch 611/1000\n",
            "  Rec_error : 0.195046  |  epoch 621/1000\n",
            "  Rec_error : 0.190781  |  epoch 631/1000\n",
            "  Rec_error : 0.189583  |  epoch 641/1000\n",
            "  Rec_error : 0.179708  |  epoch 651/1000\n",
            "  Rec_error : 0.174628  |  epoch 661/1000\n",
            "  Rec_error : 0.170198  |  epoch 671/1000\n",
            "  Rec_error : 0.162496  |  epoch 681/1000\n",
            "  Rec_error : 0.158889  |  epoch 691/1000\n",
            "  Rec_error : 0.153500  |  epoch 701/1000\n",
            "  Rec_error : 0.148522  |  epoch 711/1000\n",
            "  Rec_error : 0.150349  |  epoch 721/1000\n",
            "  Rec_error : 0.149962  |  epoch 731/1000\n",
            "  Rec_error : 0.139477  |  epoch 741/1000\n",
            "  Rec_error : 0.140367  |  epoch 751/1000\n",
            "  Rec_error : 0.131635  |  epoch 761/1000\n",
            "  Rec_error : 0.135452  |  epoch 771/1000\n",
            "  Rec_error : 0.131126  |  epoch 781/1000\n",
            "  Rec_error : 0.126291  |  epoch 791/1000\n",
            "  Rec_error : 0.126082  |  epoch 801/1000\n",
            "  Rec_error : 0.120213  |  epoch 811/1000\n",
            "  Rec_error : 0.118799  |  epoch 821/1000\n",
            "  Rec_error : 0.118745  |  epoch 831/1000\n",
            "  Rec_error : 0.111394  |  epoch 841/1000\n",
            "  Rec_error : 0.111377  |  epoch 851/1000\n",
            "  Rec_error : 0.110742  |  epoch 861/1000\n",
            "  Rec_error : 0.109283  |  epoch 871/1000\n",
            "  Rec_error : 0.104354  |  epoch 881/1000\n",
            "  Rec_error : 0.101685  |  epoch 891/1000\n",
            "  Rec_error : 0.100764  |  epoch 901/1000\n",
            "  Rec_error : 0.097553  |  epoch 911/1000\n",
            "  Rec_error : 0.092751  |  epoch 921/1000\n",
            "  Rec_error : 0.094694  |  epoch 931/1000\n",
            "  Rec_error : 0.090447  |  epoch 941/1000\n",
            "  Rec_error : 0.089076  |  epoch 951/1000\n",
            "  Rec_error : 0.086422  |  epoch 961/1000\n",
            "  Rec_error : 0.085565  |  epoch 971/1000\n",
            "  Rec_error : 0.083828  |  epoch 981/1000\n",
            "  Rec_error : 0.082566  |  epoch 991/1000\n"
          ]
        },
        {
          "output_type": "display_data",
          "data": {
            "text/plain": [
              "<Figure size 640x480 with 0 Axes>"
            ]
          },
          "metadata": {}
        },
        {
          "output_type": "display_data",
          "data": {
            "text/plain": [
              "<Figure size 640x480 with 0 Axes>"
            ]
          },
          "metadata": {}
        },
        {
          "output_type": "display_data",
          "data": {
            "text/plain": [
              "<Figure size 640x480 with 0 Axes>"
            ]
          },
          "metadata": {}
        },
        {
          "output_type": "display_data",
          "data": {
            "text/plain": [
              "<Figure size 640x480 with 0 Axes>"
            ]
          },
          "metadata": {}
        },
        {
          "output_type": "display_data",
          "data": {
            "text/plain": [
              "<Figure size 640x480 with 0 Axes>"
            ]
          },
          "metadata": {}
        },
        {
          "output_type": "display_data",
          "data": {
            "text/plain": [
              "<Figure size 640x480 with 0 Axes>"
            ]
          },
          "metadata": {}
        },
        {
          "output_type": "display_data",
          "data": {
            "text/plain": [
              "<Figure size 640x480 with 0 Axes>"
            ]
          },
          "metadata": {}
        },
        {
          "output_type": "display_data",
          "data": {
            "text/plain": [
              "<Figure size 640x480 with 0 Axes>"
            ]
          },
          "metadata": {}
        },
        {
          "output_type": "display_data",
          "data": {
            "text/plain": [
              "<Figure size 640x480 with 0 Axes>"
            ]
          },
          "metadata": {}
        },
        {
          "output_type": "display_data",
          "data": {
            "text/plain": [
              "<Figure size 640x480 with 1 Axes>"
            ],
            "image/png": "[encoded data removed]"
          },
          "metadata": {}
        }
      ]
    },
    {
      "cell_type": "code",
      "source": [
        "# USPS\n",
        "\n",
        "def lire_usps(caractères):\n",
        "    matrice, samples = [], []\n",
        "    data = np.swapaxes(fichier['data'], 0, 2)\n",
        "    for caractère in caractères:\n",
        "        for example in data[caractère]:\n",
        "            example = (example > 255/2)*1  # Binarization\n",
        "            samples.append(example.reshape(16*16))  # Reshape\n",
        "        samples = random.sample(samples, 250)\n",
        "        matrice += samples\n",
        "    return np.array(matrice)\n",
        "\n",
        "width, height = 16, 16\n",
        "fichier = mio.loadmat(\"./usps_all\")\n",
        "data = lire_usps([2,3,4,5,6])\n",
        "\n",
        "model = RBM(256,300) # RBM of size 256 = 16*16\n",
        "model.init_RBM()\n",
        "model.train_RBM(data)\n",
        "\n",
        "RBM.generer_image_RBM(model, 1000, 10)"
      ],
      "metadata": {
        "colab": {
          "base_uri": "https://localhost:8080/",
          "height": 1000
        },
        "id": "VcSH_qMC5nJc",
        "outputId": "b8e3ad23-6ff5-478e-e3d2-51b6d1cf86e6"
      },
      "execution_count": 5,
      "outputs": [
        {
          "output_type": "stream",
          "name": "stderr",
          "text": [
            "<ipython-input-5-fe1b3239f375>:15: DeprecationWarning: Please use `loadmat` from the `scipy.io.matlab` namespace, the `scipy.io.matlab.mio` namespace is deprecated.\n",
            "  fichier = mio.loadmat(\"./usps_all\")\n"
          ]
        },
        {
          "output_type": "stream",
          "name": "stdout",
          "text": [
            "  Rec_error : 21.438253  |  epoch 1/1000\n",
            "  Rec_error : 8.084164  |  epoch 11/1000\n",
            "  Rec_error : 4.626460  |  epoch 21/1000\n",
            "  Rec_error : 3.005538  |  epoch 31/1000\n",
            "  Rec_error : 2.010094  |  epoch 41/1000\n",
            "  Rec_error : 1.412557  |  epoch 51/1000\n",
            "  Rec_error : 1.033693  |  epoch 61/1000\n",
            "  Rec_error : 0.771268  |  epoch 71/1000\n",
            "  Rec_error : 0.578534  |  epoch 81/1000\n",
            "  Rec_error : 0.455973  |  epoch 91/1000\n",
            "  Rec_error : 0.366432  |  epoch 101/1000\n",
            "  Rec_error : 0.289454  |  epoch 111/1000\n",
            "  Rec_error : 0.234504  |  epoch 121/1000\n",
            "  Rec_error : 0.197132  |  epoch 131/1000\n",
            "  Rec_error : 0.165346  |  epoch 141/1000\n",
            "  Rec_error : 0.135353  |  epoch 151/1000\n",
            "  Rec_error : 0.115809  |  epoch 161/1000\n",
            "  Rec_error : 0.099737  |  epoch 171/1000\n",
            "  Rec_error : 0.086345  |  epoch 181/1000\n",
            "  Rec_error : 0.075356  |  epoch 191/1000\n",
            "  Rec_error : 0.065287  |  epoch 201/1000\n",
            "  Rec_error : 0.060115  |  epoch 211/1000\n",
            "  Rec_error : 0.054500  |  epoch 221/1000\n",
            "  Rec_error : 0.047886  |  epoch 231/1000\n",
            "  Rec_error : 0.042308  |  epoch 241/1000\n",
            "  Rec_error : 0.038235  |  epoch 251/1000\n",
            "  Rec_error : 0.035151  |  epoch 261/1000\n",
            "  Rec_error : 0.033035  |  epoch 271/1000\n",
            "  Rec_error : 0.030460  |  epoch 281/1000\n",
            "  Rec_error : 0.027431  |  epoch 291/1000\n",
            "  Rec_error : 0.024565  |  epoch 301/1000\n",
            "  Rec_error : 0.023777  |  epoch 311/1000\n",
            "  Rec_error : 0.020905  |  epoch 321/1000\n",
            "  Rec_error : 0.020098  |  epoch 331/1000\n",
            "  Rec_error : 0.018672  |  epoch 341/1000\n",
            "  Rec_error : 0.017249  |  epoch 351/1000\n",
            "  Rec_error : 0.016195  |  epoch 361/1000\n",
            "  Rec_error : 0.015326  |  epoch 371/1000\n",
            "  Rec_error : 0.014233  |  epoch 381/1000\n",
            "  Rec_error : 0.013880  |  epoch 391/1000\n",
            "  Rec_error : 0.013175  |  epoch 401/1000\n",
            "  Rec_error : 0.012361  |  epoch 411/1000\n",
            "  Rec_error : 0.011889  |  epoch 421/1000\n",
            "  Rec_error : 0.011218  |  epoch 431/1000\n",
            "  Rec_error : 0.010903  |  epoch 441/1000\n",
            "  Rec_error : 0.009891  |  epoch 451/1000\n",
            "  Rec_error : 0.008973  |  epoch 461/1000\n",
            "  Rec_error : 0.009468  |  epoch 471/1000\n",
            "  Rec_error : 0.008667  |  epoch 481/1000\n",
            "  Rec_error : 0.008531  |  epoch 491/1000\n",
            "  Rec_error : 0.007773  |  epoch 501/1000\n",
            "  Rec_error : 0.007489  |  epoch 511/1000\n",
            "  Rec_error : 0.007155  |  epoch 521/1000\n",
            "  Rec_error : 0.007008  |  epoch 531/1000\n",
            "  Rec_error : 0.006598  |  epoch 541/1000\n",
            "  Rec_error : 0.006411  |  epoch 551/1000\n",
            "  Rec_error : 0.006263  |  epoch 561/1000\n",
            "  Rec_error : 0.005737  |  epoch 571/1000\n",
            "  Rec_error : 0.005678  |  epoch 581/1000\n",
            "  Rec_error : 0.005561  |  epoch 591/1000\n",
            "  Rec_error : 0.005305  |  epoch 601/1000\n",
            "  Rec_error : 0.005185  |  epoch 611/1000\n",
            "  Rec_error : 0.004985  |  epoch 621/1000\n",
            "  Rec_error : 0.004893  |  epoch 631/1000\n",
            "  Rec_error : 0.004676  |  epoch 641/1000\n",
            "  Rec_error : 0.004259  |  epoch 651/1000\n",
            "  Rec_error : 0.004264  |  epoch 661/1000\n",
            "  Rec_error : 0.004240  |  epoch 671/1000\n",
            "  Rec_error : 0.004065  |  epoch 681/1000\n",
            "  Rec_error : 0.003904  |  epoch 691/1000\n",
            "  Rec_error : 0.003791  |  epoch 701/1000\n",
            "  Rec_error : 0.003687  |  epoch 711/1000\n",
            "  Rec_error : 0.003665  |  epoch 721/1000\n",
            "  Rec_error : 0.003442  |  epoch 731/1000\n",
            "  Rec_error : 0.003352  |  epoch 741/1000\n",
            "  Rec_error : 0.003337  |  epoch 751/1000\n",
            "  Rec_error : 0.003207  |  epoch 761/1000\n",
            "  Rec_error : 0.003213  |  epoch 771/1000\n",
            "  Rec_error : 0.003087  |  epoch 781/1000\n",
            "  Rec_error : 0.003039  |  epoch 791/1000\n",
            "  Rec_error : 0.003047  |  epoch 801/1000\n",
            "  Rec_error : 0.002731  |  epoch 811/1000\n",
            "  Rec_error : 0.002671  |  epoch 821/1000\n",
            "  Rec_error : 0.002718  |  epoch 831/1000\n",
            "  Rec_error : 0.002556  |  epoch 841/1000\n",
            "  Rec_error : 0.002514  |  epoch 851/1000\n",
            "  Rec_error : 0.002493  |  epoch 861/1000\n",
            "  Rec_error : 0.002387  |  epoch 871/1000\n",
            "  Rec_error : 0.002295  |  epoch 881/1000\n",
            "  Rec_error : 0.002282  |  epoch 891/1000\n",
            "  Rec_error : 0.002220  |  epoch 901/1000\n",
            "  Rec_error : 0.002252  |  epoch 911/1000\n",
            "  Rec_error : 0.002204  |  epoch 921/1000\n",
            "  Rec_error : 0.002166  |  epoch 931/1000\n",
            "  Rec_error : 0.002147  |  epoch 941/1000\n",
            "  Rec_error : 0.002028  |  epoch 951/1000\n",
            "  Rec_error : 0.001960  |  epoch 961/1000\n",
            "  Rec_error : 0.001921  |  epoch 971/1000\n",
            "  Rec_error : 0.001894  |  epoch 981/1000\n",
            "  Rec_error : 0.001868  |  epoch 991/1000\n"
          ]
        },
        {
          "output_type": "display_data",
          "data": {
            "text/plain": [
              "<Figure size 640x480 with 0 Axes>"
            ]
          },
          "metadata": {}
        },
        {
          "output_type": "display_data",
          "data": {
            "text/plain": [
              "<Figure size 640x480 with 0 Axes>"
            ]
          },
          "metadata": {}
        },
        {
          "output_type": "display_data",
          "data": {
            "text/plain": [
              "<Figure size 640x480 with 0 Axes>"
            ]
          },
          "metadata": {}
        },
        {
          "output_type": "display_data",
          "data": {
            "text/plain": [
              "<Figure size 640x480 with 0 Axes>"
            ]
          },
          "metadata": {}
        },
        {
          "output_type": "display_data",
          "data": {
            "text/plain": [
              "<Figure size 640x480 with 0 Axes>"
            ]
          },
          "metadata": {}
        },
        {
          "output_type": "display_data",
          "data": {
            "text/plain": [
              "<Figure size 640x480 with 0 Axes>"
            ]
          },
          "metadata": {}
        },
        {
          "output_type": "display_data",
          "data": {
            "text/plain": [
              "<Figure size 640x480 with 0 Axes>"
            ]
          },
          "metadata": {}
        },
        {
          "output_type": "display_data",
          "data": {
            "text/plain": [
              "<Figure size 640x480 with 0 Axes>"
            ]
          },
          "metadata": {}
        },
        {
          "output_type": "display_data",
          "data": {
            "text/plain": [
              "<Figure size 640x480 with 0 Axes>"
            ]
          },
          "metadata": {}
        },
        {
          "output_type": "display_data",
          "data": {
            "text/plain": [
              "<Figure size 640x480 with 1 Axes>"
            ],
            "image/png": "[encoded data removed]"
          },
          "metadata": {}
        }
      ]
    }
  ]
}